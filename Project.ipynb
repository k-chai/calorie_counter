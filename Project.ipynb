{
 "cells": [
  {
   "cell_type": "code",
   "execution_count": 78,
   "metadata": {},
   "outputs": [],
   "source": [
    "# global\n",
    "\n",
    "meals = [\n",
    "    {\n",
    "        \"id\": \"meal-1\",\n",
    "        \"name\": \"hamburger\",\n",
    "        \"calories\": 600,\n",
    "        \"price\": 5\n",
    "    },\n",
    "    {\n",
    "        \"id\": \"meal-2\",\n",
    "        \"name\": \"cheese burger\",\n",
    "        \"calories\": 750,\n",
    "        \"price\": 7\n",
    "    },\n",
    "    {\n",
    "        \"id\": \"meal-3\",\n",
    "        \"name\": \"veggie burger\",\n",
    "        \"calories\": 400,\n",
    "        \"price\": 6\n",
    "    },\n",
    "    {\n",
    "        \"id\": \"meal-4\",\n",
    "        \"name\": \"vegan burger\",\n",
    "        \"calories\": 350,\n",
    "        \"price\": 6\n",
    "    },\n",
    "    {\n",
    "        \"id\": \"meal-5\",\n",
    "        \"name\": \"sweet potatoes\",\n",
    "        \"calories\": 230,\n",
    "        \"price\": 3\n",
    "    },\n",
    "    {\n",
    "        \"id\": \"meal-6\",\n",
    "        \"name\": \"salad\",\n",
    "        \"calories\": 15,\n",
    "        \"price\": 4},\n",
    "    {\n",
    "        \"id\": \"meal-7\",\n",
    "        \"name\": \"iced tea\",\n",
    "        \"calories\": 70,\n",
    "        \"price\": 2\n",
    "    },\n",
    "    {\n",
    "        \"id\": \"meal-8\",\n",
    "        \"name\": \"lemonade\",\n",
    "        \"calories\": 90,\n",
    "        \"price\": 2\n",
    "    },\n",
    "]\n",
    "\n",
    "combos = [\n",
    "    {\n",
    "        \"id\": \"combo-1\",\n",
    "        \"name\": \"cheesy combo\",\n",
    "        \"meals\": [\"meal-2\", \"meal-5\", \"meal-8\"],\n",
    "        \"price\": 11,\n",
    "    },\n",
    "    {\n",
    "        \"id\": \"combo-2\",\n",
    "        \"name\": \"veggie combo\",\n",
    "        \"meals\": [\"meal-3\", \"meal-5\", \"meal-7\"],\n",
    "        \"price\": 10,\n",
    "    },\n",
    "    {\n",
    "        \"id\": \"combo-3\",\n",
    "        \"name\": \"vegan combo\",\n",
    "        \"meals\": [\"meal-4\", \"meal-6\", \"meal-8\"],\n",
    "        \"price\": 10,\n",
    "    },\n",
    "]"
   ]
  },
  {
   "cell_type": "code",
   "execution_count": 122,
   "metadata": {},
   "outputs": [
    {
     "name": "stdout",
     "output_type": "stream",
     "text": [
      "meals_dict exists\n",
      "combos_dict exists\n",
      "{'hamburger': {'id': 'meal-1', 'name': 'hamburger', 'calories': 600, 'price': 5}, 'cheese burger': {'id': 'meal-2', 'name': 'cheese burger', 'calories': 750, 'price': 7}, 'veggie burger': {'id': 'meal-3', 'name': 'veggie burger', 'calories': 400, 'price': 6}, 'vegan burger': {'id': 'meal-4', 'name': 'vegan burger', 'calories': 350, 'price': 6}, 'sweet potatoes': {'id': 'meal-5', 'name': 'sweet potatoes', 'calories': 230, 'price': 3}, 'salad': {'id': 'meal-6', 'name': 'salad', 'calories': 15, 'price': 4}, 'iced tea': {'id': 'meal-7', 'name': 'iced tea', 'calories': 70, 'price': 2}, 'lemonade': {'id': 'meal-8', 'name': 'lemonade', 'calories': 90, 'price': 2}}\n",
      "{'cheesy combo': {'id': 'combo-1', 'name': 'cheesy combo', 'meals': ['cheese burger', 'sweet potatoes', 'lemonade'], 'price': 11}, 'veggie combo': {'id': 'combo-2', 'name': 'veggie combo', 'meals': ['veggie burger', 'sweet potatoes', 'iced tea'], 'price': 10}, 'vegan combo': {'id': 'combo-3', 'name': 'vegan combo', 'meals': ['meal-4', 'meal-6', 'meal-8'], 'price': 10}}\n"
     ]
    }
   ],
   "source": [
    "# menu to dict\n",
    "import json\n",
    "\n",
    "def menu_to_dict(menu_type):\n",
    "    try: \n",
    "        menu_dict = eval(menu_type + '_dict') #check if the dict already exist \n",
    "        print(f'{menu_type}_dict exists')\n",
    "    except NameError:\n",
    "        with open(\"data/meals.json\") as file:\n",
    "\t        meals = json.load(file)\n",
    "        menu_dict = {\n",
    "        item [\"name\"]: item\n",
    "        for item in eval(menu_type)\n",
    "        }  \n",
    "        print(f'{menu_type}_dict created')\n",
    "    return(menu_dict)\n",
    "    \n",
    "\n",
    "meals_dict = menu_to_dict('meals')\n",
    "combos_dict = menu_to_dict('combos')\n",
    "\n",
    "print(meals_dict)\n",
    "print(combos_dict)\n",
    "\n"
   ]
  },
  {
   "cell_type": "code",
   "execution_count": 83,
   "metadata": {},
   "outputs": [],
   "source": [
    "# general\n",
    "def find_menu_type(item):\n",
    "    if item in meals_dict:\n",
    "        return('meals')\n",
    "    elif item in combos_dict:\n",
    "        return('combos')\n",
    "    else:\n",
    "        raise KeyError"
   ]
  },
  {
   "cell_type": "markdown",
   "metadata": {},
   "source": []
  },
  {
   "cell_type": "code",
   "execution_count": 102,
   "metadata": {},
   "outputs": [],
   "source": [
    "# calories\n",
    "\n",
    "def calories_counter_meals(*order):\n",
    "    calories_count = 0\n",
    "    for item in order:\n",
    "        # print(f'meal: {item}')\n",
    "        meal_calories_count = meals_dict[item]['calories']\n",
    "        calories_count += meal_calories_count\n",
    "        print(f'{item} meal calories count: {meal_calories_count}')\n",
    "    return(calories_count)\n",
    "\n",
    "def calories_counter_combos(*order):\n",
    "    calories_count = 0\n",
    "    for item in order:\n",
    "        # print('combo: ', item)\n",
    "        meals_in_combo = combos_dict[item]['meals']\n",
    "        for i in range(len(meals_in_combo)):\n",
    "            for j in meals_dict:\n",
    "                if meals_in_combo[i] == meals_dict[j]['id']:\n",
    "                    meals_in_combo[i] = meals_dict[j]['name']\n",
    "                    break\n",
    "        # print(f'meals_in_combo: {meals_in_combo}')\n",
    "        combo_calories_count = calories_counter_meals(*meals_in_combo)\n",
    "        calories_count += combo_calories_count\n",
    "        print(f'{item} combo calories count: {combo_calories_count}\\n')\n",
    "        # print(f'current calories count: {calories_count}')\n",
    "    return(calories_count)\n",
    "\n",
    "def calories_counter_order(*order):\n",
    "    calories_count = 0\n",
    "    for item in order:\n",
    "        print(f'item: {item}')\n",
    "        try:\n",
    "            menu_type = find_menu_type(item)\n",
    "            # print(f'menu_type: {menu_type}')\n",
    "            calories_count += eval('calories_counter_' + menu_type + '(item)')\n",
    "            # print(f'current calories count: {calories_count}\\n')\n",
    "        except KeyError:\n",
    "            print(f'{item} is not on the menu\\n')\n",
    "    return(calories_count)\n"
   ]
  },
  {
   "cell_type": "code",
   "execution_count": 103,
   "metadata": {},
   "outputs": [],
   "source": [
    "# price\n",
    "\n",
    "def price_counter(*order):\n",
    "    price_count = 0\n",
    "    for item in order:\n",
    "        try:\n",
    "            menu_type = find_menu_type(item)\n",
    "            # print(f'menu_type: {menu_type}')\n",
    "            price_count_current = eval(menu_type + '_dict' + \"[item]['price']\")\n",
    "            price_count += price_count_current\n",
    "            print(f'{item} price count: {price_count_current}')\n",
    "        except KeyError:\n",
    "            print(f'{item} is not on the menu')\n",
    "    return(price_count)"
   ]
  },
  {
   "cell_type": "code",
   "execution_count": null,
   "metadata": {},
   "outputs": [],
   "source": []
  },
  {
   "cell_type": "code",
   "execution_count": 104,
   "metadata": {},
   "outputs": [
    {
     "name": "stdout",
     "output_type": "stream",
     "text": [
      "item: cheese burger\n",
      "cheese burger meal calories count: 750\n",
      "item: vegan burger\n",
      "vegan burger meal calories count: 350\n",
      "item: lemonade\n",
      "lemonade meal calories count: 90\n",
      "item: cheesy combo\n",
      "cheese burger meal calories count: 750\n",
      "sweet potatoes meal calories count: 230\n",
      "lemonade meal calories count: 90\n",
      "cheesy combo combo calories count: 1070\n",
      "\n",
      "item: veggie combo\n",
      "veggie burger meal calories count: 400\n",
      "sweet potatoes meal calories count: 230\n",
      "iced tea meal calories count: 70\n",
      "veggie combo combo calories count: 700\n",
      "\n",
      "Total calories: 2960\n",
      "\n",
      "cheese burger price count: 7\n",
      "vegan burger price count: 6\n",
      "lemonade price count: 2\n",
      "cheesy combo price count: 11\n",
      "veggie combo price count: 10\n",
      "Total price: 36\n",
      "\n"
     ]
    }
   ],
   "source": [
    "\n",
    "order = 'cheese burger, vegan burger, lemoNAde, cheesy combo, veggie combo'.lower().split(', ')\n",
    "print(f'Total calories: {calories_counter_order(*order)}\\n')\n",
    "print(f'Total price: {price_counter(*order)}\\n')\n",
    "\n"
   ]
  },
  {
   "cell_type": "code",
   "execution_count": 109,
   "metadata": {},
   "outputs": [
    {
     "name": "stdout",
     "output_type": "stream",
     "text": [
      "1\n"
     ]
    }
   ],
   "source": [
    "try:\n",
    "    aaa\n",
    "    print(1)\n",
    "except NameError:\n",
    "    print(2)"
   ]
  },
  {
   "cell_type": "code",
   "execution_count": 53,
   "metadata": {},
   "outputs": [
    {
     "name": "stdout",
     "output_type": "stream",
     "text": [
      "{123456789: {'social_security_number': 123456789, 'first_name': 'John', 'last_name': 'Doe'}, 987654321: {'social_security_number': 987654321, 'first_name': 'Jane', 'last_name': 'Doe'}}\n"
     ]
    }
   ],
   "source": []
  },
  {
   "cell_type": "code",
   "execution_count": null,
   "metadata": {},
   "outputs": [],
   "source": []
  }
 ],
 "metadata": {
  "kernelspec": {
   "display_name": "Python 3",
   "language": "python",
   "name": "python3"
  },
  "language_info": {
   "codemirror_mode": {
    "name": "ipython",
    "version": 3
   },
   "file_extension": ".py",
   "mimetype": "text/x-python",
   "name": "python",
   "nbconvert_exporter": "python",
   "pygments_lexer": "ipython3",
   "version": "3.11.4"
  },
  "orig_nbformat": 4
 },
 "nbformat": 4,
 "nbformat_minor": 2
}
