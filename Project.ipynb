{
 "cells": [
  {
   "cell_type": "code",
   "execution_count": null,
   "metadata": {},
   "outputs": [],
   "source": [
    "from code.functions import"
   ]
  },
  {
   "cell_type": "markdown",
   "metadata": {},
   "source": [
    "Create *combos* and *meals* dicts."
   ]
  },
  {
   "cell_type": "code",
   "execution_count": 13,
   "metadata": {},
   "outputs": [
    {
     "name": "stdout",
     "output_type": "stream",
     "text": [
      "Meals: hamburger, cheese burger, veggie burger, vegan burger, sweet potatoes, salad, iced tea, lemonade\n",
      "Combos: cheesy combo, veggie combo, vegan combo\n"
     ]
    }
   ],
   "source": [
    "import json\n",
    "from code.functions import menu_to_dict\n",
    "\n",
    "with open(\"data/meals.json\") as file:\n",
    "\tmeals_dict = menu_to_dict(json.load(file)['meals'])\n",
    "print(f\"Meals: {', '.join(meals_dict.keys())}\")\n",
    "\n",
    "# with open(\"data/meals_dict.json\", 'w') as json_file:\n",
    "#     json.dump(meals_dict, json_file)\n",
    "\n",
    "\n",
    "with open(\"data/combos.json\") as file:\n",
    "\tcombos_dict = menu_to_dict(json.load(file)['combos'])\n",
    "print(f\"Combos: {', '.join(combos_dict.keys())}\")\n",
    "\n",
    "# with open(\"data/combos_dict.json\", 'w') as json_file:\n",
    "#     json.dump(combos_dict, json_file)\n"
   ]
  },
  {
   "cell_type": "code",
   "execution_count": 25,
   "metadata": {},
   "outputs": [
    {
     "ename": "NameError",
     "evalue": "name 'meals_dict' is not defined",
     "output_type": "error",
     "traceback": [
      "\u001b[0;31m---------------------------------------------------------------------------\u001b[0m",
      "\u001b[0;31mNameError\u001b[0m                                 Traceback (most recent call last)",
      "\u001b[1;32m/Users/kristina/Documents/repos/calorie_counter/Project.ipynb Cell 4\u001b[0m line \u001b[0;36m3\n\u001b[1;32m      <a href='vscode-notebook-cell:/Users/kristina/Documents/repos/calorie_counter/Project.ipynb#X16sZmlsZQ%3D%3D?line=0'>1</a>\u001b[0m \u001b[39mfrom\u001b[39;00m \u001b[39mcode\u001b[39;00m\u001b[39m.\u001b[39;00m\u001b[39mfunctions\u001b[39;00m \u001b[39mimport\u001b[39;00m calories_counter\n\u001b[0;32m----> <a href='vscode-notebook-cell:/Users/kristina/Documents/repos/calorie_counter/Project.ipynb#X16sZmlsZQ%3D%3D?line=2'>3</a>\u001b[0m result \u001b[39m=\u001b[39m calories_counter([\u001b[39m'\u001b[39m\u001b[39mVeggie Combo\u001b[39m\u001b[39m'\u001b[39m, \u001b[39m'\u001b[39m\u001b[39mHamburger\u001b[39m\u001b[39m'\u001b[39m])\n\u001b[1;32m      <a href='vscode-notebook-cell:/Users/kristina/Documents/repos/calorie_counter/Project.ipynb#X16sZmlsZQ%3D%3D?line=4'>5</a>\u001b[0m \u001b[39mprint\u001b[39m(\u001b[39mf\u001b[39m\u001b[39m'\u001b[39m\u001b[39mYou ate \u001b[39m\u001b[39m{\u001b[39;00mresult\u001b[39m}\u001b[39;00m\u001b[39m calories.\u001b[39m\u001b[39m'\u001b[39m)\n",
      "File \u001b[0;32m~/Documents/repos/calorie_counter/code/functions.py:82\u001b[0m, in \u001b[0;36mcalories_counter\u001b[0;34m(*order)\u001b[0m\n\u001b[1;32m     79\u001b[0m \u001b[39mfor\u001b[39;00m item \u001b[39min\u001b[39;00m order:\n\u001b[1;32m     80\u001b[0m     \u001b[39m# print(f'item: {item}')\u001b[39;00m\n\u001b[1;32m     81\u001b[0m     \u001b[39mtry\u001b[39;00m:\n\u001b[0;32m---> 82\u001b[0m         menu_type \u001b[39m=\u001b[39m find_menu_type(item)\n\u001b[1;32m     83\u001b[0m         \u001b[39mif\u001b[39;00m item \u001b[39min\u001b[39;00m meals_dict:\n\u001b[1;32m     84\u001b[0m             calories_count \u001b[39m+\u001b[39m\u001b[39m=\u001b[39m meals_dict[item][\u001b[39m'\u001b[39m\u001b[39mcalories\u001b[39m\u001b[39m'\u001b[39m]\n",
      "File \u001b[0;32m~/Documents/repos/calorie_counter/code/functions.py:32\u001b[0m, in \u001b[0;36mfind_menu_type\u001b[0;34m(item)\u001b[0m\n\u001b[1;32m     31\u001b[0m \u001b[39mdef\u001b[39;00m \u001b[39mfind_menu_type\u001b[39m(item):\n\u001b[0;32m---> 32\u001b[0m     \u001b[39mif\u001b[39;00m item \u001b[39min\u001b[39;00m meals_dict:\n\u001b[1;32m     33\u001b[0m         \u001b[39mreturn\u001b[39;00m(\u001b[39m'\u001b[39m\u001b[39mmeals\u001b[39m\u001b[39m'\u001b[39m)\n\u001b[1;32m     34\u001b[0m     \u001b[39melif\u001b[39;00m item \u001b[39min\u001b[39;00m combos_dict:\n",
      "\u001b[0;31mNameError\u001b[0m: name 'meals_dict' is not defined"
     ]
    }
   ],
   "source": [
    "from code.functions import calories_counter\n",
    "\n",
    "result = calories_counter(['Veggie Combo', 'Hamburger'])\n",
    "\n",
    "print(f'You ate {result} calories.')\n"
   ]
  },
  {
   "cell_type": "code",
   "execution_count": null,
   "metadata": {},
   "outputs": [],
   "source": []
  }
 ],
 "metadata": {
  "kernelspec": {
   "display_name": "Python 3",
   "language": "python",
   "name": "python3"
  },
  "language_info": {
   "codemirror_mode": {
    "name": "ipython",
    "version": 3
   },
   "file_extension": ".py",
   "mimetype": "text/x-python",
   "name": "python",
   "nbconvert_exporter": "python",
   "pygments_lexer": "ipython3",
   "version": "3.11.4"
  },
  "orig_nbformat": 4
 },
 "nbformat": 4,
 "nbformat_minor": 2
}
