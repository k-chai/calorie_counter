{
 "cells": [
  {
   "cell_type": "markdown",
   "metadata": {},
   "source": [
    "Readings *combos* and *meals* dicts."
   ]
  },
  {
   "cell_type": "code",
   "execution_count": 1,
   "metadata": {},
   "outputs": [
    {
     "name": "stdout",
     "output_type": "stream",
     "text": [
      "{'hamburger': {'id': 'meal-1', 'name': 'hamburger', 'calories': 600, 'price': 5}, 'cheese burger': {'id': 'meal-2', 'name': 'cheese burger', 'calories': 750, 'price': 7}, 'veggie burger': {'id': 'meal-3', 'name': 'veggie burger', 'calories': 400, 'price': 6}, 'vegan burger': {'id': 'meal-4', 'name': 'vegan burger', 'calories': 350, 'price': 6}, 'sweet potatoes': {'id': 'meal-5', 'name': 'sweet potatoes', 'calories': 230, 'price': 3}, 'salad': {'id': 'meal-6', 'name': 'salad', 'calories': 15, 'price': 4}, 'iced tea': {'id': 'meal-7', 'name': 'iced tea', 'calories': 70, 'price': 2}, 'lemonade': {'id': 'meal-8', 'name': 'lemonade', 'calories': 90, 'price': 2}}\n",
      "{'cheesy combo': {'id': 'combo-1', 'name': 'cheesy combo', 'meals': ['meal-2', 'meal-5', 'meal-8'], 'price': 11}, 'veggie combo': {'id': 'combo-2', 'name': 'veggie combo', 'meals': ['meal-3', 'meal-5', 'meal-7'], 'price': 10}, 'vegan combo': {'id': 'combo-3', 'name': 'vegan combo', 'meals': ['meal-4', 'meal-6', 'meal-8'], 'price': 10}}\n"
     ]
    }
   ],
   "source": [
    "from code.constants import MEALS_DICT, COMBOS_DICT\n",
    "\n",
    "print(MEALS_DICT)\n",
    "print(COMBOS_DICT)\n"
   ]
  },
  {
   "cell_type": "markdown",
   "metadata": {},
   "source": [
    "Counting *calories*"
   ]
  },
  {
   "cell_type": "code",
   "execution_count": 12,
   "metadata": {},
   "outputs": [
    {
     "name": "stdout",
     "output_type": "stream",
     "text": [
      "The order is 1615 calories.\n"
     ]
    }
   ],
   "source": [
    "from code.functions import calories_counter\n",
    "\n",
    "calories = calories_counter('CHEESY COMBO', 'Vegan Combo', 'lemoNAde')\n",
    "\n",
    "print(f'The order is {calories} calories.')"
   ]
  },
  {
   "cell_type": "markdown",
   "metadata": {},
   "source": [
    "Counting *price*"
   ]
  },
  {
   "cell_type": "code",
   "execution_count": 1,
   "metadata": {},
   "outputs": [
    {
     "name": "stdout",
     "output_type": "stream",
     "text": [
      "The order costs 23.\n"
     ]
    }
   ],
   "source": [
    "from code.functions import price_counter\n",
    "\n",
    "price = price_counter('CHEESY COMBO', 'Vegan Combo', 'lemoNAde')\n",
    "\n",
    "print(f'The order costs {price}.')"
   ]
  },
  {
   "cell_type": "markdown",
   "metadata": {},
   "source": [
    "Create *Order* class instance"
   ]
  },
  {
   "cell_type": "code",
   "execution_count": 3,
   "metadata": {},
   "outputs": [
    {
     "name": "stdout",
     "output_type": "stream",
     "text": [
      "Order 1\n",
      "Order id: order--5\n",
      "Order date: 2000-01-01\n",
      "Order: ('CHEESE BURGER', 'sweet potatoes', 'Vegan Combo', 'lemoNAde')\n",
      "Order calories: 1525\n",
      "Order cost: 22\n",
      "Order accepted: True\n",
      "Order refuse reason: None\n",
      "\n",
      "Order 2\n",
      "Order id: order--6\n",
      "Order date: 2023-11-20\n",
      "Order: ('salad', 'Vegan Combo', 'something else')\n",
      "Order calories: None\n",
      "Order cost: None\n",
      "Order accepted: False\n",
      "Order refuse reason: The meal \"something else\" is not in the menu.\n"
     ]
    }
   ],
   "source": [
    "# Order\n",
    "from code.classes import Order\n",
    "\n",
    "order_1 = Order('CHEESE BURGER', 'sweet potatoes', 'Vegan Combo', 'lemoNAde', date=\"1-Jan-2000\")\n",
    "order_2 = Order('salad', 'Vegan Combo', 'something else')\n",
    "\n",
    "print(\"Order 1\")\n",
    "print(f\"Order id: {order_1.order_id}\")\n",
    "print(f\"Order date: {order_1.date}\")\n",
    "print(f\"Order: {order_1.items}\")\n",
    "print(f\"Order calories: {order_1.calories}\")\n",
    "print(f\"Order cost: {order_1.price}\")\n",
    "print(f\"Order accepted: {order_1.order_accepted}\")\n",
    "print(f\"Order refuse reason: {order_1.order_refused_reason}\")\n",
    "\n",
    "print()\n",
    "\n",
    "print(\"Order 2\")\n",
    "print(f\"Order id: {order_2.order_id}\")\n",
    "print(f\"Order date: {order_2.date}\")\n",
    "print(f\"Order: {order_2.items}\")\n",
    "print(f\"Order calories: {order_2.calories}\")\n",
    "print(f\"Order cost: {order_2.price}\")\n",
    "print(f\"Order accepted: {order_2.order_accepted}\")\n",
    "print(f\"Order refuse reason: {order_2.order_refused_reason}\")"
   ]
  },
  {
   "cell_type": "code",
   "execution_count": null,
   "metadata": {},
   "outputs": [],
   "source": []
  }
 ],
 "metadata": {
  "kernelspec": {
   "display_name": "Python 3",
   "language": "python",
   "name": "python3"
  },
  "language_info": {
   "codemirror_mode": {
    "name": "ipython",
    "version": 3
   },
   "file_extension": ".py",
   "mimetype": "text/x-python",
   "name": "python",
   "nbconvert_exporter": "python",
   "pygments_lexer": "ipython3",
   "version": "3.11.4"
  },
  "orig_nbformat": 4
 },
 "nbformat": 4,
 "nbformat_minor": 2
}
