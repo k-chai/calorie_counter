{
 "cells": [
  {
   "cell_type": "code",
   "execution_count": null,
   "metadata": {},
   "outputs": [],
   "source": [
    "from code.functions import"
   ]
  },
  {
   "cell_type": "markdown",
   "metadata": {},
   "source": [
    "Create *combos* and *meals* dicts."
   ]
  },
  {
   "cell_type": "code",
   "execution_count": 3,
   "metadata": {},
   "outputs": [
    {
     "name": "stdout",
     "output_type": "stream",
     "text": [
      "Meals: hamburger, cheese burger, veggie burger, vegan burger, sweet potatoes, salad, iced tea, lemonade\n",
      "Combos: cheesy combo, veggie combo, vegan combo\n"
     ]
    }
   ],
   "source": [
    "import json\n",
    "from code.functions import menu_to_dict\n",
    "\n",
    "with open(\"data/meals.json\") as file:\n",
    "\tmeals_dict = menu_to_dict(json.load(file)['meals'])\n",
    "print(f\"Meals: {', '.join(meals_dict.keys())}\")\n",
    "\n",
    "with open(\"data/meals_dict.json\", 'w') as json_file:\n",
    "    json.dump(meals_dict, json_file)\n",
    "\n",
    "\n",
    "with open(\"data/combos.json\") as file:\n",
    "\tcombos_dict = menu_to_dict(json.load(file)['combos'])\n",
    "print(f\"Combos: {', '.join(combos_dict.keys())}\")\n",
    "\n",
    "with open(\"data/combos_dict.json\", 'w') as json_file:\n",
    "    json.dump(combos_dict, json_file)\n"
   ]
  },
  {
   "cell_type": "code",
   "execution_count": 83,
   "metadata": {},
   "outputs": [],
   "source": [
    "# general\n",
    "def find_menu_type(item):\n",
    "    if item in meals_dict:\n",
    "        return('meals')\n",
    "    elif item in combos_dict:\n",
    "        return('combos')\n",
    "    else:\n",
    "        raise KeyError"
   ]
  },
  {
   "cell_type": "markdown",
   "metadata": {},
   "source": []
  },
  {
   "cell_type": "markdown",
   "metadata": {},
   "source": []
  },
  {
   "cell_type": "code",
   "execution_count": 102,
   "metadata": {},
   "outputs": [],
   "source": [
    "# calories\n",
    "\n",
    "def calories_counter_meals(*order):\n",
    "    calories_count = 0\n",
    "    for item in order:\n",
    "        # print(f'meal: {item}')\n",
    "        meal_calories_count = meals_dict[item]['calories']\n",
    "        calories_count += meal_calories_count\n",
    "        print(f'{item} meal calories count: {meal_calories_count}')\n",
    "    return(calories_count)\n",
    "\n",
    "def calories_counter_combos(*order):\n",
    "    calories_count = 0\n",
    "    for item in order:\n",
    "        # print('combo: ', item)\n",
    "        meals_in_combo = combos_dict[item]['meals']\n",
    "        for i in range(len(meals_in_combo)):\n",
    "            for j in meals_dict:\n",
    "                if meals_in_combo[i] == meals_dict[j]['id']:\n",
    "                    meals_in_combo[i] = meals_dict[j]['name']\n",
    "                    break\n",
    "        # print(f'meals_in_combo: {meals_in_combo}')\n",
    "        combo_calories_count = calories_counter_meals(*meals_in_combo)\n",
    "        calories_count += combo_calories_count\n",
    "        print(f'{item} combo calories count: {combo_calories_count}\\n')\n",
    "        # print(f'current calories count: {calories_count}')\n",
    "    return(calories_count)\n",
    "\n",
    "def calories_counter_order(*order):\n",
    "    calories_count = 0\n",
    "    for item in order:\n",
    "        print(f'item: {item}')\n",
    "        try:\n",
    "            menu_type = find_menu_type(item)\n",
    "            # print(f'menu_type: {menu_type}')\n",
    "            calories_count += eval('calories_counter_' + menu_type + '(item)')\n",
    "            # print(f'current calories count: {calories_count}\\n')\n",
    "        except KeyError:\n",
    "            print(f'{item} is not on the menu\\n')\n",
    "    return(calories_count)\n"
   ]
  },
  {
   "cell_type": "code",
   "execution_count": 103,
   "metadata": {},
   "outputs": [],
   "source": [
    "# price\n",
    "\n",
    "def price_counter(*order):\n",
    "    price_count = 0\n",
    "    for item in order:\n",
    "        try:\n",
    "            menu_type = find_menu_type(item)\n",
    "            # print(f'menu_type: {menu_type}')\n",
    "            price_count_current = eval(menu_type + '_dict' + \"[item]['price']\")\n",
    "            price_count += price_count_current\n",
    "            print(f'{item} price count: {price_count_current}')\n",
    "        except KeyError:\n",
    "            print(f'{item} is not on the menu')\n",
    "    return(price_count)"
   ]
  },
  {
   "cell_type": "code",
   "execution_count": null,
   "metadata": {},
   "outputs": [],
   "source": []
  },
  {
   "cell_type": "code",
   "execution_count": 104,
   "metadata": {},
   "outputs": [
    {
     "name": "stdout",
     "output_type": "stream",
     "text": [
      "item: cheese burger\n",
      "cheese burger meal calories count: 750\n",
      "item: vegan burger\n",
      "vegan burger meal calories count: 350\n",
      "item: lemonade\n",
      "lemonade meal calories count: 90\n",
      "item: cheesy combo\n",
      "cheese burger meal calories count: 750\n",
      "sweet potatoes meal calories count: 230\n",
      "lemonade meal calories count: 90\n",
      "cheesy combo combo calories count: 1070\n",
      "\n",
      "item: veggie combo\n",
      "veggie burger meal calories count: 400\n",
      "sweet potatoes meal calories count: 230\n",
      "iced tea meal calories count: 70\n",
      "veggie combo combo calories count: 700\n",
      "\n",
      "Total calories: 2960\n",
      "\n",
      "cheese burger price count: 7\n",
      "vegan burger price count: 6\n",
      "lemonade price count: 2\n",
      "cheesy combo price count: 11\n",
      "veggie combo price count: 10\n",
      "Total price: 36\n",
      "\n"
     ]
    }
   ],
   "source": [
    "\n",
    "order = 'cheese burger, vegan burger, lemoNAde, cheesy combo, veggie combo'.lower().split(', ')\n",
    "print(f'Total calories: {calories_counter_order(*order)}\\n')\n",
    "print(f'Total price: {price_counter(*order)}\\n')\n",
    "\n"
   ]
  },
  {
   "cell_type": "code",
   "execution_count": 109,
   "metadata": {},
   "outputs": [
    {
     "name": "stdout",
     "output_type": "stream",
     "text": [
      "1\n"
     ]
    }
   ],
   "source": [
    "try:\n",
    "    aaa\n",
    "    print(1)\n",
    "except NameError:\n",
    "    print(2)"
   ]
  },
  {
   "cell_type": "code",
   "execution_count": 53,
   "metadata": {},
   "outputs": [
    {
     "name": "stdout",
     "output_type": "stream",
     "text": [
      "{123456789: {'social_security_number': 123456789, 'first_name': 'John', 'last_name': 'Doe'}, 987654321: {'social_security_number': 987654321, 'first_name': 'Jane', 'last_name': 'Doe'}}\n"
     ]
    }
   ],
   "source": []
  },
  {
   "cell_type": "code",
   "execution_count": null,
   "metadata": {},
   "outputs": [],
   "source": []
  }
 ],
 "metadata": {
  "kernelspec": {
   "display_name": "Python 3",
   "language": "python",
   "name": "python3"
  },
  "language_info": {
   "codemirror_mode": {
    "name": "ipython",
    "version": 3
   },
   "file_extension": ".py",
   "mimetype": "text/x-python",
   "name": "python",
   "nbconvert_exporter": "python",
   "pygments_lexer": "ipython3",
   "version": "3.11.4"
  },
  "orig_nbformat": 4
 },
 "nbformat": 4,
 "nbformat_minor": 2
}
